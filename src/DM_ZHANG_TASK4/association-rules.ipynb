{
 "cells": [
  {
   "cell_type": "markdown",
   "metadata": {},
   "source": [
    "# Apriori algorithm"
   ]
  },
  {
   "cell_type": "markdown",
   "metadata": {},
   "source": [
    "#### we used the FIM package. You can find it here for Ananconda installation https://anaconda.org/conda-forge/pyfim and here for pypi installation https://pypi.org/project/fim/."
   ]
  },
  {
   "cell_type": "code",
   "execution_count": 9,
   "metadata": {},
   "outputs": [],
   "source": [
    "import numpy as np\n",
    "import pandas as pd\n",
    "import matplotlib.pyplot as plt\n",
    "from fim import apriori"
   ]
  },
  {
   "cell_type": "markdown",
   "metadata": {},
   "source": [
    "#### Pattern mining on relational data"
   ]
  },
  {
   "cell_type": "code",
   "execution_count": 10,
   "metadata": {},
   "outputs": [
    {
     "data": {
      "text/html": [
       "<div>\n",
       "<style scoped>\n",
       "    .dataframe tbody tr th:only-of-type {\n",
       "        vertical-align: middle;\n",
       "    }\n",
       "\n",
       "    .dataframe tbody tr th {\n",
       "        vertical-align: top;\n",
       "    }\n",
       "\n",
       "    .dataframe thead th {\n",
       "        text-align: right;\n",
       "    }\n",
       "</style>\n",
       "<table border=\"1\" class=\"dataframe\">\n",
       "  <thead>\n",
       "    <tr style=\"text-align: right;\">\n",
       "      <th></th>\n",
       "      <th>SCONTRINO_ID</th>\n",
       "      <th>COD_MKT_ID</th>\n",
       "    </tr>\n",
       "  </thead>\n",
       "  <tbody>\n",
       "    <tr>\n",
       "      <th>0</th>\n",
       "      <td>2558064013053</td>\n",
       "      <td>1580</td>\n",
       "    </tr>\n",
       "    <tr>\n",
       "      <th>1</th>\n",
       "      <td>2558064013053</td>\n",
       "      <td>1661</td>\n",
       "    </tr>\n",
       "    <tr>\n",
       "      <th>2</th>\n",
       "      <td>2558064013053</td>\n",
       "      <td>2068</td>\n",
       "    </tr>\n",
       "    <tr>\n",
       "      <th>3</th>\n",
       "      <td>2558064013053</td>\n",
       "      <td>2556</td>\n",
       "    </tr>\n",
       "    <tr>\n",
       "      <th>4</th>\n",
       "      <td>2558064013053</td>\n",
       "      <td>2650</td>\n",
       "    </tr>\n",
       "  </tbody>\n",
       "</table>\n",
       "</div>"
      ],
      "text/plain": [
       "    SCONTRINO_ID  COD_MKT_ID\n",
       "0  2558064013053        1580\n",
       "1  2558064013053        1661\n",
       "2  2558064013053        2068\n",
       "3  2558064013053        2556\n",
       "4  2558064013053        2650"
      ]
     },
     "execution_count": 10,
     "metadata": {},
     "output_type": "execute_result"
    }
   ],
   "source": [
    "dataset = pd.read_csv(\"../datasets/small_transactions.csv\", skipinitialspace=True, sep=',', nrows=2000)\n",
    "dataset.head()"
   ]
  },
  {
   "cell_type": "markdown",
   "metadata": {},
   "source": [
    "##### This is a relational representation: each row of the dataframe has a basket ID and one product bought. For our analysis, we need the transactions: the list of product bought for each basket. "
   ]
  },
  {
   "cell_type": "code",
   "execution_count": 11,
   "metadata": {},
   "outputs": [
    {
     "data": {
      "text/plain": [
       "SCONTRINO_ID\n",
       "2558064013053                 [1580, 1661, 2068, 2556, 2650, 4225]\n",
       "2558064013054    [437, 1278, 1614, 2089, 2243, 2245, 2443, 2551...\n",
       "2558064013055                         [151, 595, 2650, 4600, 4872]\n",
       "2558064013056             [142, 437, 2499, 2515, 3458, 3675, 4044]\n",
       "2558064013057                                          [437, 3087]\n",
       "Name: COD_MKT_ID, dtype: object"
      ]
     },
     "execution_count": 11,
     "metadata": {},
     "output_type": "execute_result"
    }
   ],
   "source": [
    "transactions = dataset.groupby('SCONTRINO_ID')['COD_MKT_ID'].apply(list)\n",
    "transactions.head()"
   ]
  },
  {
   "cell_type": "code",
   "execution_count": 12,
   "metadata": {},
   "outputs": [],
   "source": [
    "baskets = transactions.values"
   ]
  },
  {
   "cell_type": "code",
   "execution_count": 13,
   "metadata": {},
   "outputs": [
    {
     "data": {
      "text/plain": [
       "array([list([1580, 1661, 2068, 2556, 2650, 4225]),\n",
       "       list([437, 1278, 1614, 2089, 2243, 2245, 2443, 2551, 3448, 6172]),\n",
       "       list([151, 595, 2650, 4600, 4872]),\n",
       "       list([142, 437, 2499, 2515, 3458, 3675, 4044]), list([437, 3087])],\n",
       "      dtype=object)"
      ]
     },
     "execution_count": 13,
     "metadata": {},
     "output_type": "execute_result"
    }
   ],
   "source": [
    "baskets[0:5]"
   ]
  },
  {
   "cell_type": "markdown",
   "metadata": {},
   "source": [
    "#### We can now run the apriori algorithm, implemented in fim. To know the options available:"
   ]
  },
  {
   "cell_type": "code",
   "execution_count": 15,
   "metadata": {},
   "outputs": [
    {
     "name": "stdout",
     "output_type": "stream",
     "text": [
      "Help on built-in function apriori in module fim:\n",
      "\n",
      "apriori(...)\n",
      "    apriori (tracts, target='s', supp=10, zmin=1, zmax=None, report='a',\n",
      "             eval='x', agg='x', thresh=10, prune=None, algo='b', mode='',\n",
      "             border=None)\n",
      "    Find frequent item sets with the Apriori algorithm.\n",
      "    tracts  transaction database to mine (mandatory)\n",
      "            The database must be an iterable of transactions;\n",
      "            each transaction must be an iterable of items;\n",
      "            each item must be a hashable object.\n",
      "            If the database is a dictionary, the transactions are\n",
      "            the keys, the values their (integer) multiplicities.\n",
      "    target  type of frequent item sets to find     (default: s)\n",
      "            s/a   sets/all   all     frequent item sets\n",
      "            c     closed     closed  frequent item sets\n",
      "            m     maximal    maximal frequent item sets\n",
      "            g     gens       generators\n",
      "            r     rules      association rules\n",
      "    supp    minimum support of an item set         (default: 10)\n",
      "            (positive: percentage, negative: absolute number)\n",
      "    conf    minimum confidence of an assoc. rule   (default: 80%)\n",
      "    zmin    minimum number of items per item set   (default: 1)\n",
      "    zmax    maximum number of items per item set   (default: no limit)\n",
      "    report  values to report with an item set      (default: a)\n",
      "            a     absolute item set support (number of transactions)\n",
      "            s     relative item set support as a fraction\n",
      "            S     relative item set support as a percentage\n",
      "            e     value of item set evaluation measure\n",
      "            E     value of item set evaluation measure as a percentage\n",
      "            (     combine values in a tuple (must be first character)\n",
      "            [     combine values in a list  (must be first character)\n",
      "            #     pattern spectrum as a dictionary  (no patterns)\n",
      "            =     pattern spectrum as a list        (no patterns)\n",
      "            |     pattern spectrum as three columns (no patterns)\n",
      "            for target 'r' (association rules) also available:\n",
      "            b     absolute body set  support (number of transactions)\n",
      "            x     relative body set  support as a fraction\n",
      "            X     relative body set  support as a percentage\n",
      "            h     absolute head item support (number of transactions)\n",
      "            y     relative head item support as a fraction\n",
      "            Y     relative head item support as a percentage\n",
      "            c     rule confidence as a fraction\n",
      "            C     rule confidence as a percentage\n",
      "            l     lift value of a rule (confidence/prior)\n",
      "            L     lift value of a rule as a percentage\n",
      "            Q     support of the empty set (total number of transactions)\n",
      "    eval    measure for item set evaluation        (default: x)\n",
      "            x     none       no measure / zero (default)\n",
      "            b     ldratio    binary logarithm of support quotient       (+)\n",
      "            c     conf       rule confidence                            (+)\n",
      "            d     confdiff   absolute confidence difference to prior    (+)\n",
      "            l     lift       lift value (confidence divided by prior)   (+)\n",
      "            a     liftdiff   absolute difference of lift value to 1     (+)\n",
      "            q     liftquot   difference of lift quotient to 1           (+)\n",
      "            v     cvct       conviction (inverse lift for negated head) (+)\n",
      "            e     cvctdiff   absolute difference of conviction to 1     (+)\n",
      "            r     cvctquot   difference of conviction quotient to 1     (+)\n",
      "            k     cprob      conditional probability ratio              (+)\n",
      "            j     import     importance (binary log. of prob. ratio)    (+)\n",
      "            z     cert       certainty factor (relative conf. change)   (+)\n",
      "            n     chi2       normalized chi^2 measure                   (+)\n",
      "            p     chi2pval   p-value from (unnormalized) chi^2 measure  (-)\n",
      "            y     yates      normalized chi^2 with Yates' correction    (+)\n",
      "            t     yatespval  p-value from Yates-corrected chi^2 measure (-)\n",
      "            i     info       information difference to prior            (+)\n",
      "            g     infopval   p-value from G statistic/info. difference  (-)\n",
      "            f     fetprob    Fisher's exact test (table probability)    (-)\n",
      "            h     fetchi2    Fisher's exact test (chi^2 measure)        (-)\n",
      "            m     fetinfo    Fisher's exact test (mutual information)   (-)\n",
      "            s     fetsupp    Fisher's exact test (support)              (-)\n",
      "            Measures marked with (+) must meet or exceed the threshold,\n",
      "            measures marked with (-) must not exceed the threshold\n",
      "            in order for the item set to be reported.\n",
      "    agg     evaluation measure aggregation mode    (default: x)\n",
      "            x     none       no aggregation (use first value)\n",
      "            m     min        minimum of individual measure values\n",
      "            n     max        maximum of individual measure values\n",
      "            a     avg        average of individual measure values\n",
      "    thresh  threshold for evaluation measure       (default: 10%)\n",
      "    prune   min. size for evaluation filtering     (default: no pruning)\n",
      "            = 0   backward filtering       (no subset check)\n",
      "            < 0   weak   forward filtering (one subset  must qualify)\n",
      "            > 0   strong forward filtering (all subsets must qualify)\n",
      "    algo    algorithm variant to use               (default: a)\n",
      "            b     basic      standard algorithm (only choice)\n",
      "    mode    operation mode indicators/flags        (default: None)\n",
      "            x     do not use perfect extension pruning\n",
      "            t/T   do not organize transactions as a prefix tree\n",
      "            y     a-posteriori pruning of infrequent item sets\n",
      "            z     invalidate evaluation below expected support\n",
      "            o     use original rule support definition (body & head)\n",
      "    border  support border for filtering item sets (default: None)\n",
      "            Must be a list or tuple of (absolute) minimum support values\n",
      "            per item set size (by which the list/tuple is indexed).\n",
      "    appear  dictionary mapping items to item appearance indicators,\n",
      "            with the key None referring to the default item appearance.\n",
      "            (If None does not occur as a key or no dictionary is given,\n",
      "            the default item appearance indicator is 'both'.)\n",
      "            This parameter is only used if the target type is rules.\n",
      "            * item may not appear anywhere in a rule:\n",
      "              '-', 'n', 'none', 'neither', 'ignore'\n",
      "            * item may appear only in rule body/antecedent:\n",
      "              'i', 'in', 'inp', 'input', 'b', 'body',\n",
      "              'a', 'ante', 'antecedent'\n",
      "            * item may appear only in rule head/consequent:\n",
      "              'o', 'out',      'output', 'h', 'head',\n",
      "              'c', 'cons', 'consequent'\n",
      "            * item may appear anywhere in a rule:\n",
      "              'io', 'i&o', 'inout', 'in&out', 'bh', 'b&h', 'both'\n",
      "    returns if report is not in ['#','=','|']:\n",
      "              if the target is association rules:\n",
      "                a list of rules (i.e. tuples with two or more elements),\n",
      "                each consisting of a head/consequent item, a tuple with\n",
      "                a body/antecedent item set, and the values selected by\n",
      "                the parameter 'report', which may be combined into a\n",
      "                tuple or a list if report[0] is '(' or '[', respectively.\n",
      "              if the target is a type of item sets:\n",
      "                a list of patterns (i.e. tuples with one or more elements),\n",
      "                each consisting of a tuple with a found frequent item set\n",
      "                and the values selected by the parameter 'report', which\n",
      "                may be combined into a tuple or list if report[0] is '('\n",
      "                or '[', respectively\n",
      "            if report in ['#','=','|']:\n",
      "              a pattern spectrum as a dictionary mapping pattern sizes\n",
      "              to the corresponding occurrence support ranges, as a list\n",
      "              of triplets (size, min. support, max. support) or as three\n",
      "              columns for sizes and minimum and maximum support values\n",
      "\n"
     ]
    }
   ],
   "source": [
    "help(apriori)"
   ]
  },
  {
   "cell_type": "markdown",
   "metadata": {},
   "source": [
    "#### First, we want to extract the itemsets: we do it setting target=a"
   ]
  },
  {
   "cell_type": "code",
   "execution_count": 16,
   "metadata": {},
   "outputs": [],
   "source": [
    "itemsets = apriori(baskets, supp=1, zmin=2, zmax=5, target='a') "
   ]
  },
  {
   "cell_type": "markdown",
   "metadata": {},
   "source": [
    "#### We can now see the itemsets obtained and their support"
   ]
  },
  {
   "cell_type": "code",
   "execution_count": 21,
   "metadata": {},
   "outputs": [
    {
     "name": "stdout",
     "output_type": "stream",
     "text": [
      "Number of itemsets: 392\n"
     ]
    }
   ],
   "source": [
    "print('Number of itemsets:', len(itemsets))"
   ]
  },
  {
   "cell_type": "code",
   "execution_count": 23,
   "metadata": {},
   "outputs": [
    {
     "data": {
      "text/plain": [
       "[((4461, 920), 3),\n",
       " ((142, 393), 3),\n",
       " ((1258, 2650), 3),\n",
       " ((2518, 2499), 3),\n",
       " ((2518, 920), 3),\n",
       " ((599, 597), 3),\n",
       " ((2550, 2650), 3),\n",
       " ((4136, 6172), 3),\n",
       " ((3074, 437), 3),\n",
       " ((1658, 445), 4),\n",
       " ((1658, 445, 2650), 3),\n",
       " ((1658, 2650), 3),\n",
       " ((1429, 1428), 4),\n",
       " ((207, 2650), 3),\n",
       " ((563, 2194), 3)]"
      ]
     },
     "execution_count": 23,
     "metadata": {},
     "output_type": "execute_result"
    }
   ],
   "source": [
    "itemsets[20:35]"
   ]
  },
  {
   "cell_type": "markdown",
   "metadata": {},
   "source": [
    "#### With apriori we can also extract the rules, by setting target=r. Remeber that in this case we need to set a support value as well as a confidence one"
   ]
  },
  {
   "cell_type": "code",
   "execution_count": 26,
   "metadata": {},
   "outputs": [],
   "source": [
    "rules = apriori(baskets, supp=1, zmin=2, target='r', conf=60, report='ascl') "
   ]
  },
  {
   "cell_type": "code",
   "execution_count": 27,
   "metadata": {},
   "outputs": [
    {
     "name": "stdout",
     "output_type": "stream",
     "text": [
      "Number of rule: 1096\n"
     ]
    }
   ],
   "source": [
    "print('Number of rule:', len(rules))"
   ]
  },
  {
   "cell_type": "code",
   "execution_count": 32,
   "metadata": {},
   "outputs": [
    {
     "data": {
      "text/plain": [
       "(2548,\n",
       " (2193, 2499, 920),\n",
       " 2,\n",
       " 0.00881057268722467,\n",
       " 0.6666666666666666,\n",
       " 75.66666666666667)"
      ]
     },
     "execution_count": 32,
     "metadata": {},
     "output_type": "execute_result"
    }
   ],
   "source": [
    "#visualization of one rule\n",
    "rules[100]"
   ]
  },
  {
   "cell_type": "code",
   "execution_count": 44,
   "metadata": {},
   "outputs": [
    {
     "name": "stdout",
     "output_type": "stream",
     "text": [
      "(2443, (3086,), 3, 0.013215859030837005, 1.0, 9.869565217391305)\n",
      "(2050, (441,), 3, 0.013215859030837005, 0.75, 13.096153846153847)\n",
      "(2650, (441,), 3, 0.013215859030837005, 0.75, 2.541044776119403)\n",
      "(2243, (1278,), 4, 0.01762114537444934, 1.0, 14.1875)\n",
      "(437, (4805,), 3, 0.013215859030837005, 1.0, 9.458333333333334)\n",
      "(2650, (396,), 3, 0.013215859030837005, 1.0, 3.388059701492537)\n",
      "(2650, (4163,), 3, 0.013215859030837005, 1.0, 3.388059701492537)\n",
      "(2729, (385,), 3, 0.013215859030837005, 0.75, 8.5125)\n",
      "(2650, (4182, 445), 3, 0.013215859030837005, 1.0, 3.388059701492537)\n",
      "(445, (4182, 2650), 3, 0.013215859030837005, 1.0, 5.27906976744186)\n"
     ]
    }
   ],
   "source": [
    "count = 0\n",
    "for r in rules:\n",
    "    if r[5] > 2 and r[4] > 0.7:\n",
    "        print(r)\n",
    "        count += 1\n",
    "        if count == 10:\n",
    "            break"
   ]
  },
  {
   "cell_type": "markdown",
   "metadata": {},
   "source": [
    "#### Given a rule, we can print the baksets that contain the premises of the rule"
   ]
  },
  {
   "cell_type": "code",
   "execution_count": 48,
   "metadata": {},
   "outputs": [
    {
     "name": "stdout",
     "output_type": "stream",
     "text": [
      "[505, 566, 588, 597, 607, 629, 632, 2058, 2727, 2729, 2731, 4003, 4126, 4228]\n",
      "[588, 597, 598, 615, 620, 622, 623, 624, 1508, 4801]\n",
      "[588, 2014, 4180]\n"
     ]
    }
   ],
   "source": [
    "for b in baskets:\n",
    "    if set(rules[9][1]) < set(b):\n",
    "            print(b)"
   ]
  },
  {
   "cell_type": "markdown",
   "metadata": {},
   "source": [
    "# Pattern mining on tabular data"
   ]
  },
  {
   "cell_type": "code",
   "execution_count": 50,
   "metadata": {},
   "outputs": [],
   "source": [
    "df = pd.read_csv(\"../datasets/titanic.csv\", skipinitialspace=True, sep=',')"
   ]
  },
  {
   "cell_type": "code",
   "execution_count": 51,
   "metadata": {},
   "outputs": [
    {
     "data": {
      "text/html": [
       "<div>\n",
       "<style scoped>\n",
       "    .dataframe tbody tr th:only-of-type {\n",
       "        vertical-align: middle;\n",
       "    }\n",
       "\n",
       "    .dataframe tbody tr th {\n",
       "        vertical-align: top;\n",
       "    }\n",
       "\n",
       "    .dataframe thead th {\n",
       "        text-align: right;\n",
       "    }\n",
       "</style>\n",
       "<table border=\"1\" class=\"dataframe\">\n",
       "  <thead>\n",
       "    <tr style=\"text-align: right;\">\n",
       "      <th></th>\n",
       "      <th>PassengerId</th>\n",
       "      <th>Survived</th>\n",
       "      <th>Pclass</th>\n",
       "      <th>Name</th>\n",
       "      <th>Sex</th>\n",
       "      <th>Age</th>\n",
       "      <th>SibSp</th>\n",
       "      <th>Parch</th>\n",
       "      <th>Ticket</th>\n",
       "      <th>Fare</th>\n",
       "      <th>Cabin</th>\n",
       "      <th>Embarked</th>\n",
       "    </tr>\n",
       "  </thead>\n",
       "  <tbody>\n",
       "    <tr>\n",
       "      <th>0</th>\n",
       "      <td>1</td>\n",
       "      <td>0</td>\n",
       "      <td>3</td>\n",
       "      <td>Braund, Mr. Owen Harris</td>\n",
       "      <td>male</td>\n",
       "      <td>22.0</td>\n",
       "      <td>1</td>\n",
       "      <td>0</td>\n",
       "      <td>A/5 21171</td>\n",
       "      <td>7.2500</td>\n",
       "      <td>NaN</td>\n",
       "      <td>S</td>\n",
       "    </tr>\n",
       "    <tr>\n",
       "      <th>1</th>\n",
       "      <td>2</td>\n",
       "      <td>1</td>\n",
       "      <td>1</td>\n",
       "      <td>Cumings, Mrs. John Bradley (Florence Briggs Th...</td>\n",
       "      <td>female</td>\n",
       "      <td>38.0</td>\n",
       "      <td>1</td>\n",
       "      <td>0</td>\n",
       "      <td>PC 17599</td>\n",
       "      <td>71.2833</td>\n",
       "      <td>C85</td>\n",
       "      <td>C</td>\n",
       "    </tr>\n",
       "    <tr>\n",
       "      <th>2</th>\n",
       "      <td>3</td>\n",
       "      <td>1</td>\n",
       "      <td>3</td>\n",
       "      <td>Heikkinen, Miss. Laina</td>\n",
       "      <td>female</td>\n",
       "      <td>26.0</td>\n",
       "      <td>0</td>\n",
       "      <td>0</td>\n",
       "      <td>STON/O2. 3101282</td>\n",
       "      <td>7.9250</td>\n",
       "      <td>NaN</td>\n",
       "      <td>S</td>\n",
       "    </tr>\n",
       "    <tr>\n",
       "      <th>3</th>\n",
       "      <td>4</td>\n",
       "      <td>1</td>\n",
       "      <td>1</td>\n",
       "      <td>Futrelle, Mrs. Jacques Heath (Lily May Peel)</td>\n",
       "      <td>female</td>\n",
       "      <td>35.0</td>\n",
       "      <td>1</td>\n",
       "      <td>0</td>\n",
       "      <td>113803</td>\n",
       "      <td>53.1000</td>\n",
       "      <td>C123</td>\n",
       "      <td>S</td>\n",
       "    </tr>\n",
       "    <tr>\n",
       "      <th>4</th>\n",
       "      <td>5</td>\n",
       "      <td>0</td>\n",
       "      <td>3</td>\n",
       "      <td>Allen, Mr. William Henry</td>\n",
       "      <td>male</td>\n",
       "      <td>35.0</td>\n",
       "      <td>0</td>\n",
       "      <td>0</td>\n",
       "      <td>373450</td>\n",
       "      <td>8.0500</td>\n",
       "      <td>NaN</td>\n",
       "      <td>S</td>\n",
       "    </tr>\n",
       "  </tbody>\n",
       "</table>\n",
       "</div>"
      ],
      "text/plain": [
       "   PassengerId  Survived  Pclass  \\\n",
       "0            1         0       3   \n",
       "1            2         1       1   \n",
       "2            3         1       3   \n",
       "3            4         1       1   \n",
       "4            5         0       3   \n",
       "\n",
       "                                                Name     Sex   Age  SibSp  \\\n",
       "0                            Braund, Mr. Owen Harris    male  22.0      1   \n",
       "1  Cumings, Mrs. John Bradley (Florence Briggs Th...  female  38.0      1   \n",
       "2                             Heikkinen, Miss. Laina  female  26.0      0   \n",
       "3       Futrelle, Mrs. Jacques Heath (Lily May Peel)  female  35.0      1   \n",
       "4                           Allen, Mr. William Henry    male  35.0      0   \n",
       "\n",
       "   Parch            Ticket     Fare Cabin Embarked  \n",
       "0      0         A/5 21171   7.2500   NaN        S  \n",
       "1      0          PC 17599  71.2833   C85        C  \n",
       "2      0  STON/O2. 3101282   7.9250   NaN        S  \n",
       "3      0            113803  53.1000  C123        S  \n",
       "4      0            373450   8.0500   NaN        S  "
      ]
     },
     "execution_count": 51,
     "metadata": {},
     "output_type": "execute_result"
    }
   ],
   "source": [
    "df.head()"
   ]
  },
  {
   "cell_type": "markdown",
   "metadata": {},
   "source": [
    "### Some pre-processing steps"
   ]
  },
  {
   "cell_type": "code",
   "execution_count": 52,
   "metadata": {},
   "outputs": [
    {
     "data": {
      "text/plain": [
       "PassengerId      0\n",
       "Survived         0\n",
       "Pclass           0\n",
       "Name             0\n",
       "Sex              0\n",
       "Age            177\n",
       "SibSp            0\n",
       "Parch            0\n",
       "Ticket           0\n",
       "Fare             0\n",
       "Cabin          687\n",
       "Embarked         2\n",
       "dtype: int64"
      ]
     },
     "execution_count": 52,
     "metadata": {},
     "output_type": "execute_result"
    }
   ],
   "source": [
    "df.isnull().sum()"
   ]
  },
  {
   "cell_type": "code",
   "execution_count": 53,
   "metadata": {},
   "outputs": [
    {
     "data": {
      "text/plain": [
       "PassengerId      0\n",
       "Survived         0\n",
       "Pclass           0\n",
       "Name             0\n",
       "Sex              0\n",
       "Age              0\n",
       "SibSp            0\n",
       "Parch            0\n",
       "Ticket           0\n",
       "Fare             0\n",
       "Cabin          687\n",
       "Embarked         0\n",
       "FamilySize       0\n",
       "dtype: int64"
      ]
     },
     "execution_count": 53,
     "metadata": {},
     "output_type": "execute_result"
    }
   ],
   "source": [
    "df['Embarked'] = df['Embarked'].fillna(df['Embarked'].mode()[0])\n",
    "\n",
    "df['Age'] = df['Age'].groupby([df['Sex'], df['Pclass']]).apply(\n",
    "    lambda x: x.fillna(x.median()))\n",
    "df['FamilySize'] = df['SibSp'] + df['Parch'] + 1\n",
    "\n",
    "df.isnull().sum()"
   ]
  },
  {
   "cell_type": "code",
   "execution_count": 54,
   "metadata": {},
   "outputs": [
    {
     "data": {
      "text/html": [
       "<div>\n",
       "<style scoped>\n",
       "    .dataframe tbody tr th:only-of-type {\n",
       "        vertical-align: middle;\n",
       "    }\n",
       "\n",
       "    .dataframe tbody tr th {\n",
       "        vertical-align: top;\n",
       "    }\n",
       "\n",
       "    .dataframe thead th {\n",
       "        text-align: right;\n",
       "    }\n",
       "</style>\n",
       "<table border=\"1\" class=\"dataframe\">\n",
       "  <thead>\n",
       "    <tr style=\"text-align: right;\">\n",
       "      <th></th>\n",
       "      <th>Survived</th>\n",
       "      <th>Pclass</th>\n",
       "      <th>Sex</th>\n",
       "      <th>Age</th>\n",
       "      <th>Fare</th>\n",
       "      <th>Embarked</th>\n",
       "      <th>FamilySize</th>\n",
       "    </tr>\n",
       "  </thead>\n",
       "  <tbody>\n",
       "    <tr>\n",
       "      <th>0</th>\n",
       "      <td>0</td>\n",
       "      <td>3</td>\n",
       "      <td>male</td>\n",
       "      <td>22.0</td>\n",
       "      <td>7.2500</td>\n",
       "      <td>S</td>\n",
       "      <td>2</td>\n",
       "    </tr>\n",
       "    <tr>\n",
       "      <th>1</th>\n",
       "      <td>1</td>\n",
       "      <td>1</td>\n",
       "      <td>female</td>\n",
       "      <td>38.0</td>\n",
       "      <td>71.2833</td>\n",
       "      <td>C</td>\n",
       "      <td>2</td>\n",
       "    </tr>\n",
       "    <tr>\n",
       "      <th>2</th>\n",
       "      <td>1</td>\n",
       "      <td>3</td>\n",
       "      <td>female</td>\n",
       "      <td>26.0</td>\n",
       "      <td>7.9250</td>\n",
       "      <td>S</td>\n",
       "      <td>1</td>\n",
       "    </tr>\n",
       "    <tr>\n",
       "      <th>3</th>\n",
       "      <td>1</td>\n",
       "      <td>1</td>\n",
       "      <td>female</td>\n",
       "      <td>35.0</td>\n",
       "      <td>53.1000</td>\n",
       "      <td>S</td>\n",
       "      <td>2</td>\n",
       "    </tr>\n",
       "    <tr>\n",
       "      <th>4</th>\n",
       "      <td>0</td>\n",
       "      <td>3</td>\n",
       "      <td>male</td>\n",
       "      <td>35.0</td>\n",
       "      <td>8.0500</td>\n",
       "      <td>S</td>\n",
       "      <td>1</td>\n",
       "    </tr>\n",
       "  </tbody>\n",
       "</table>\n",
       "</div>"
      ],
      "text/plain": [
       "   Survived  Pclass     Sex   Age     Fare Embarked  FamilySize\n",
       "0         0       3    male  22.0   7.2500        S           2\n",
       "1         1       1  female  38.0  71.2833        C           2\n",
       "2         1       3  female  26.0   7.9250        S           1\n",
       "3         1       1  female  35.0  53.1000        S           2\n",
       "4         0       3    male  35.0   8.0500        S           1"
      ]
     },
     "execution_count": 54,
     "metadata": {},
     "output_type": "execute_result"
    }
   ],
   "source": [
    "column2drop = ['PassengerId', 'Name', 'Cabin', 'SibSp', \n",
    "               'Parch', 'Ticket']\n",
    "df.drop(column2drop, axis=1, inplace=True)\n",
    "\n",
    "df.head()"
   ]
  },
  {
   "cell_type": "code",
   "execution_count": 55,
   "metadata": {},
   "outputs": [
    {
     "data": {
      "text/html": [
       "<div>\n",
       "<style scoped>\n",
       "    .dataframe tbody tr th:only-of-type {\n",
       "        vertical-align: middle;\n",
       "    }\n",
       "\n",
       "    .dataframe tbody tr th {\n",
       "        vertical-align: top;\n",
       "    }\n",
       "\n",
       "    .dataframe thead th {\n",
       "        text-align: right;\n",
       "    }\n",
       "</style>\n",
       "<table border=\"1\" class=\"dataframe\">\n",
       "  <thead>\n",
       "    <tr style=\"text-align: right;\">\n",
       "      <th></th>\n",
       "      <th>Survived</th>\n",
       "      <th>Pclass</th>\n",
       "      <th>Sex</th>\n",
       "      <th>Embarked</th>\n",
       "      <th>FamilySize</th>\n",
       "      <th>AgeBin</th>\n",
       "      <th>FareBin</th>\n",
       "    </tr>\n",
       "  </thead>\n",
       "  <tbody>\n",
       "    <tr>\n",
       "      <th>0</th>\n",
       "      <td>0</td>\n",
       "      <td>3</td>\n",
       "      <td>male</td>\n",
       "      <td>S</td>\n",
       "      <td>2</td>\n",
       "      <td>[16.0, 24.0)</td>\n",
       "      <td>[0.0, 51.2)</td>\n",
       "    </tr>\n",
       "    <tr>\n",
       "      <th>1</th>\n",
       "      <td>1</td>\n",
       "      <td>1</td>\n",
       "      <td>female</td>\n",
       "      <td>C</td>\n",
       "      <td>2</td>\n",
       "      <td>[32.0, 40.0)</td>\n",
       "      <td>[51.2, 102.4)</td>\n",
       "    </tr>\n",
       "    <tr>\n",
       "      <th>2</th>\n",
       "      <td>1</td>\n",
       "      <td>3</td>\n",
       "      <td>female</td>\n",
       "      <td>S</td>\n",
       "      <td>1</td>\n",
       "      <td>[24.0, 32.0)</td>\n",
       "      <td>[0.0, 51.2)</td>\n",
       "    </tr>\n",
       "    <tr>\n",
       "      <th>3</th>\n",
       "      <td>1</td>\n",
       "      <td>1</td>\n",
       "      <td>female</td>\n",
       "      <td>S</td>\n",
       "      <td>2</td>\n",
       "      <td>[32.0, 40.0)</td>\n",
       "      <td>[51.2, 102.4)</td>\n",
       "    </tr>\n",
       "    <tr>\n",
       "      <th>4</th>\n",
       "      <td>0</td>\n",
       "      <td>3</td>\n",
       "      <td>male</td>\n",
       "      <td>S</td>\n",
       "      <td>1</td>\n",
       "      <td>[32.0, 40.0)</td>\n",
       "      <td>[0.0, 51.2)</td>\n",
       "    </tr>\n",
       "  </tbody>\n",
       "</table>\n",
       "</div>"
      ],
      "text/plain": [
       "   Survived  Pclass     Sex Embarked  FamilySize        AgeBin        FareBin\n",
       "0         0       3    male        S           2  [16.0, 24.0)    [0.0, 51.2)\n",
       "1         1       1  female        C           2  [32.0, 40.0)  [51.2, 102.4)\n",
       "2         1       3  female        S           1  [24.0, 32.0)    [0.0, 51.2)\n",
       "3         1       1  female        S           2  [32.0, 40.0)  [51.2, 102.4)\n",
       "4         0       3    male        S           1  [32.0, 40.0)    [0.0, 51.2)"
      ]
     },
     "execution_count": 55,
     "metadata": {},
     "output_type": "execute_result"
    }
   ],
   "source": [
    "df['AgeBin'] = pd.cut(df['Age'].astype(int), 10, right=False)\n",
    "df['FareBin'] = pd.cut(df['Fare'].astype(int), 10, right=False)\n",
    "\n",
    "df.drop(['Age', 'Fare'], axis=1, inplace=True)\n",
    "\n",
    "df.head()"
   ]
  },
  {
   "cell_type": "code",
   "execution_count": 56,
   "metadata": {},
   "outputs": [
    {
     "data": {
      "text/html": [
       "<div>\n",
       "<style scoped>\n",
       "    .dataframe tbody tr th:only-of-type {\n",
       "        vertical-align: middle;\n",
       "    }\n",
       "\n",
       "    .dataframe tbody tr th {\n",
       "        vertical-align: top;\n",
       "    }\n",
       "\n",
       "    .dataframe thead th {\n",
       "        text-align: right;\n",
       "    }\n",
       "</style>\n",
       "<table border=\"1\" class=\"dataframe\">\n",
       "  <thead>\n",
       "    <tr style=\"text-align: right;\">\n",
       "      <th></th>\n",
       "      <th>Survived</th>\n",
       "      <th>Pclass</th>\n",
       "      <th>Sex</th>\n",
       "      <th>Embarked</th>\n",
       "      <th>FamilySize</th>\n",
       "      <th>AgeBin</th>\n",
       "      <th>FareBin</th>\n",
       "    </tr>\n",
       "  </thead>\n",
       "  <tbody>\n",
       "    <tr>\n",
       "      <th>0</th>\n",
       "      <td>Not Survived</td>\n",
       "      <td>3rd</td>\n",
       "      <td>male</td>\n",
       "      <td>S</td>\n",
       "      <td>2_Family</td>\n",
       "      <td>[16.0, 24.0)_Age</td>\n",
       "      <td>[0.0, 51.2)_Fare</td>\n",
       "    </tr>\n",
       "    <tr>\n",
       "      <th>1</th>\n",
       "      <td>Survived</td>\n",
       "      <td>1st</td>\n",
       "      <td>female</td>\n",
       "      <td>C</td>\n",
       "      <td>2_Family</td>\n",
       "      <td>[32.0, 40.0)_Age</td>\n",
       "      <td>[51.2, 102.4)_Fare</td>\n",
       "    </tr>\n",
       "    <tr>\n",
       "      <th>2</th>\n",
       "      <td>Survived</td>\n",
       "      <td>3rd</td>\n",
       "      <td>female</td>\n",
       "      <td>S</td>\n",
       "      <td>1_Family</td>\n",
       "      <td>[24.0, 32.0)_Age</td>\n",
       "      <td>[0.0, 51.2)_Fare</td>\n",
       "    </tr>\n",
       "    <tr>\n",
       "      <th>3</th>\n",
       "      <td>Survived</td>\n",
       "      <td>1st</td>\n",
       "      <td>female</td>\n",
       "      <td>S</td>\n",
       "      <td>2_Family</td>\n",
       "      <td>[32.0, 40.0)_Age</td>\n",
       "      <td>[51.2, 102.4)_Fare</td>\n",
       "    </tr>\n",
       "    <tr>\n",
       "      <th>4</th>\n",
       "      <td>Not Survived</td>\n",
       "      <td>3rd</td>\n",
       "      <td>male</td>\n",
       "      <td>S</td>\n",
       "      <td>1_Family</td>\n",
       "      <td>[32.0, 40.0)_Age</td>\n",
       "      <td>[0.0, 51.2)_Fare</td>\n",
       "    </tr>\n",
       "  </tbody>\n",
       "</table>\n",
       "</div>"
      ],
      "text/plain": [
       "       Survived Pclass     Sex Embarked FamilySize            AgeBin  \\\n",
       "0  Not Survived    3rd    male        S   2_Family  [16.0, 24.0)_Age   \n",
       "1      Survived    1st  female        C   2_Family  [32.0, 40.0)_Age   \n",
       "2      Survived    3rd  female        S   1_Family  [24.0, 32.0)_Age   \n",
       "3      Survived    1st  female        S   2_Family  [32.0, 40.0)_Age   \n",
       "4  Not Survived    3rd    male        S   1_Family  [32.0, 40.0)_Age   \n",
       "\n",
       "              FareBin  \n",
       "0    [0.0, 51.2)_Fare  \n",
       "1  [51.2, 102.4)_Fare  \n",
       "2    [0.0, 51.2)_Fare  \n",
       "3  [51.2, 102.4)_Fare  \n",
       "4    [0.0, 51.2)_Fare  "
      ]
     },
     "execution_count": 56,
     "metadata": {},
     "output_type": "execute_result"
    }
   ],
   "source": [
    "df['Survived'] = df['Survived'].map(\n",
    "    {0: 'Not Survived', 1: 'Survived'}).astype(str)\n",
    "df['Pclass'] = df['Pclass'].map(\n",
    "    {1: '1st', 2: '2nd', 3: '3rd'}).astype(str)\n",
    "\n",
    "df['FamilySize'] = df['FamilySize'].astype(str) + '_Family'\n",
    "df['AgeBin'] = df['AgeBin'].astype(str) + '_Age'\n",
    "df['FareBin'] = df['FareBin'].astype(str) + '_Fare'\n",
    "\n",
    "df.head()"
   ]
  },
  {
   "cell_type": "code",
   "execution_count": 57,
   "metadata": {},
   "outputs": [],
   "source": [
    "baskets = df.values.tolist()"
   ]
  },
  {
   "cell_type": "code",
   "execution_count": 58,
   "metadata": {},
   "outputs": [
    {
     "data": {
      "text/plain": [
       "['Not Survived',\n",
       " '3rd',\n",
       " 'male',\n",
       " 'S',\n",
       " '2_Family',\n",
       " '[16.0, 24.0)_Age',\n",
       " '[0.0, 51.2)_Fare']"
      ]
     },
     "execution_count": 58,
     "metadata": {},
     "output_type": "execute_result"
    }
   ],
   "source": [
    "baskets[0]"
   ]
  },
  {
   "cell_type": "markdown",
   "metadata": {},
   "source": [
    "#### We apply apriori on the baskets"
   ]
  },
  {
   "cell_type": "code",
   "execution_count": 59,
   "metadata": {},
   "outputs": [],
   "source": [
    "itemsets = apriori(baskets, supp=1, zmin=2, target='a') "
   ]
  },
  {
   "cell_type": "code",
   "execution_count": 60,
   "metadata": {},
   "outputs": [],
   "source": [
    "rules = apriori(baskets, supp=10, zmin=2, target='r', conf=60, \n",
    "                report='ascl') "
   ]
  },
  {
   "cell_type": "code",
   "execution_count": 61,
   "metadata": {},
   "outputs": [
    {
     "name": "stdout",
     "output_type": "stream",
     "text": [
      "('Survived', ('[51.2, 102.4)_Fare',), 68, 0.07631874298540965, 0.6601941747572816, 1.719979560551865)\n",
      "('Survived', ('[16.0, 24.0)_Age', 'female'), 68, 0.07631874298540965, 0.68, 1.7715789473684211)\n",
      "('Survived', ('1st', 'female'), 91, 0.10213243546576879, 0.9680851063829787, 2.5221164613661813)\n",
      "('Survived', ('1st',), 136, 0.1526374859708193, 0.6296296296296297, 1.6403508771929824)\n",
      "('Survived', ('female', '1_Family', '[0.0, 51.2)_Fare'), 73, 0.0819304152637486, 0.73, 1.901842105263158)\n",
      "('Survived', ('female', '1_Family'), 99, 0.1111111111111111, 0.7857142857142857, 2.0469924812030076)\n",
      "('Survived', ('female', 'S', '[0.0, 51.2)_Fare'), 100, 0.1122334455667789, 0.6329113924050633, 1.6489007328447702)\n",
      "('Survived', ('female', 'S'), 142, 0.15937149270482603, 0.6926829268292682, 1.8046213093709884)\n",
      "('Survived', ('female', '[0.0, 51.2)_Fare'), 153, 0.1717171717171717, 0.6681222707423581, 1.7406343369340382)\n",
      "('Survived', ('female',), 233, 0.2615039281705948, 0.7420382165605095, 1.9332048273550118)\n"
     ]
    }
   ],
   "source": [
    "for r in rules:\n",
    "    if r[0] == 'Survived':\n",
    "        print(r)"
   ]
  },
  {
   "cell_type": "code",
   "execution_count": 63,
   "metadata": {},
   "outputs": [
    {
     "name": "stdout",
     "output_type": "stream",
     "text": [
      "('Not Survived', ('[40.0, 48.0)_Age',), 66, 0.07407407407407407, 0.6947368421052632, 1.127523727351165)\n",
      "('Not Survived', ('[32.0, 40.0)_Age', '[0.0, 51.2)_Fare'), 64, 0.0718294051627385, 0.6881720430107527, 1.116869381279746)\n",
      "('Not Survived', ('C', 'male'), 66, 0.07407407407407407, 0.6947368421052632, 1.127523727351165)\n",
      "('Not Survived', ('2nd', '1_Family', 'S', '[0.0, 51.2)_Fare'), 62, 0.06958473625140292, 0.6666666666666666, 1.0819672131147542)\n",
      "('Not Survived', ('2nd', '1_Family', 'S'), 64, 0.0718294051627385, 0.6736842105263158, 1.0933563416738568)\n",
      "('Not Survived', ('2nd', '1_Family', '[0.0, 51.2)_Fare'), 66, 0.07407407407407407, 0.6470588235294118, 1.0501446480231438)\n",
      "('Not Survived', ('2nd', '1_Family'), 68, 0.07631874298540965, 0.6538461538461539, 1.0611601513240858)\n",
      "('Not Survived', ('2nd', 'male', 'S', '[0.0, 51.2)_Fare'), 77, 0.08641975308641975, 0.8369565217391305, 1.3583392729864576)\n",
      "('Not Survived', ('2nd', 'male', 'S'), 82, 0.0920314253647587, 0.845360824742268, 1.3719790434341728)\n",
      "('Not Survived', ('2nd', 'male', '[0.0, 51.2)_Fare'), 86, 0.09652076318742986, 0.8349514563106796, 1.355085150405857)\n",
      "('Not Survived', ('2nd', 'male'), 91, 0.10213243546576879, 0.8425925925925926, 1.3674863387978142)\n",
      "('Not Survived', ('[16.0, 24.0)_Age', '3rd', '1_Family', '[0.0, 51.2)_Fare'), 76, 0.08529741863075196, 0.6972477064220184, 1.131598736652128)\n",
      "('Not Survived', ('[16.0, 24.0)_Age', '3rd', '1_Family'), 76, 0.08529741863075196, 0.6972477064220184, 1.131598736652128)\n",
      "('Not Survived', ('[16.0, 24.0)_Age', '3rd', 'S', '[0.0, 51.2)_Fare'), 84, 0.09427609427609428, 0.8316831683168316, 1.349780879727317)\n",
      "('Not Survived', ('[16.0, 24.0)_Age', '3rd', 'S'), 87, 0.09764309764309764, 0.8365384615384616, 1.3576607818411097)\n",
      "('Not Survived', ('[16.0, 24.0)_Age', '3rd', '[0.0, 51.2)_Fare'), 101, 0.11335578002244669, 0.6824324324324325, 1.1075542755870624)\n",
      "('Not Survived', ('[16.0, 24.0)_Age', '3rd'), 104, 0.11672278338945005, 0.6887417218543046, 1.1177939420258387)\n",
      "('Not Survived', ('[16.0, 24.0)_Age', '1_Family', 'S', '[0.0, 51.2)_Fare'), 76, 0.08529741863075196, 0.8260869565217391, 1.3406985032074128)\n",
      "('Not Survived', ('[16.0, 24.0)_Age', '1_Family', 'S'), 78, 0.08754208754208755, 0.8041237113402062, 1.305053236437384)\n",
      "('Not Survived', ('[16.0, 24.0)_Age', '1_Family', '[0.0, 51.2)_Fare'), 88, 0.09876543209876543, 0.6875, 1.1157786885245902)\n",
      "('Not Survived', ('[16.0, 24.0)_Age', '1_Family'), 91, 0.10213243546576879, 0.6791044776119403, 1.102153168583313)\n",
      "('Not Survived', ('[16.0, 24.0)_Age', 'male', 'S'), 86, 0.09652076318742986, 0.9347826086956522, 1.5171062009978618)\n",
      "('Not Survived', ('[16.0, 24.0)_Age', 'male', '[0.0, 51.2)_Fare'), 87, 0.09764309764309764, 0.90625, 1.4707991803278688)\n",
      "('Not Survived', ('[16.0, 24.0)_Age', 'male'), 95, 0.10662177328843996, 0.8962264150943396, 1.454531394989174)\n",
      "('Not Survived', ('[16.0, 24.0)_Age', 'S', '[0.0, 51.2)_Fare'), 98, 0.10998877665544332, 0.7777777777777778, 1.2622950819672132)\n",
      "('Not Survived', ('[16.0, 24.0)_Age', 'S'), 107, 0.12008978675645342, 0.7482517482517482, 1.21437578814628)\n",
      "('Not Survived', ('[16.0, 24.0)_Age', '[0.0, 51.2)_Fare'), 116, 0.13019079685746351, 0.651685393258427, 1.0576533431571191)\n",
      "('Not Survived', ('[16.0, 24.0)_Age',), 127, 0.1425364758698092, 0.616504854368932, 1.0005570587299062)\n",
      "('Not Survived', ('1st', 'male'), 77, 0.08641975308641975, 0.6311475409836066, 1.0243214189733942)\n",
      "('Not Survived', ('[24.0, 32.0)_Age', '3rd', '1_Family', 'male', '[0.0, 51.2)_Fare'), 112, 0.12570145903479238, 0.8818897637795275, 1.4312637149864464)\n",
      "('Not Survived', ('[24.0, 32.0)_Age', '3rd', '1_Family', 'male'), 114, 0.12794612794612795, 0.8636363636363636, 1.401639344262295)\n",
      "('Not Survived', ('[24.0, 32.0)_Age', '3rd', '1_Family', 'S', '[0.0, 51.2)_Fare'), 78, 0.08754208754208755, 0.8387096774193549, 1.3611845584346907)\n",
      "('Not Survived', ('[24.0, 32.0)_Age', '3rd', '1_Family', 'S'), 80, 0.08978675645342311, 0.8163265306122449, 1.3248578119772498)\n",
      "('Not Survived', ('[24.0, 32.0)_Age', '3rd', '1_Family', '[0.0, 51.2)_Fare'), 118, 0.1324354657687991, 0.855072463768116, 1.3877405559515323)\n",
      "('Not Survived', ('[24.0, 32.0)_Age', '3rd', '1_Family'), 120, 0.13468013468013468, 0.8391608391608392, 1.3619167717528373)\n",
      "('Not Survived', ('[24.0, 32.0)_Age', '3rd', 'male', 'S', '[0.0, 51.2)_Fare'), 89, 0.09988776655443322, 0.89, 1.4444262295081967)\n",
      "('Not Survived', ('[24.0, 32.0)_Age', '3rd', 'male', 'S'), 95, 0.10662177328843996, 0.8715596330275229, 1.41449842081516)\n",
      "('Not Survived', ('[24.0, 32.0)_Age', '3rd', 'male', '[0.0, 51.2)_Fare'), 135, 0.15151515151515152, 0.8766233766233766, 1.4227166276346603)\n",
      "('Not Survived', ('[24.0, 32.0)_Age', '3rd', 'male'), 141, 0.15824915824915825, 0.8650306748466258, 1.403902242783868)\n",
      "('Not Survived', ('[24.0, 32.0)_Age', '3rd', 'S', '[0.0, 51.2)_Fare'), 101, 0.11335578002244669, 0.8278688524590164, 1.3435904326793873)\n",
      "('Not Survived', ('[24.0, 32.0)_Age', '3rd', 'S'), 107, 0.12008978675645342, 0.816793893129771, 1.3256163183581529)\n",
      "('Not Survived', ('[24.0, 32.0)_Age', '3rd', '[0.0, 51.2)_Fare'), 148, 0.16610549943883277, 0.8268156424581006, 1.341881124645114)\n",
      "('Not Survived', ('[24.0, 32.0)_Age', '3rd'), 154, 0.1728395061728395, 0.8191489361702128, 1.329438437391001)\n",
      "('Not Survived', ('[24.0, 32.0)_Age', '1_Family', 'male', 'S', '[0.0, 51.2)_Fare'), 100, 0.1122334455667789, 0.8695652173913043, 1.4112615823235923)\n",
      "('Not Survived', ('[24.0, 32.0)_Age', '1_Family', 'male', 'S'), 102, 0.11447811447811448, 0.85, 1.3795081967213114)\n",
      "('Not Survived', ('[24.0, 32.0)_Age', '1_Family', 'male', '[0.0, 51.2)_Fare'), 141, 0.15824915824915825, 0.8650306748466258, 1.403902242783868)\n",
      "('Not Survived', ('[24.0, 32.0)_Age', '1_Family', 'male'), 144, 0.16161616161616163, 0.8470588235294118, 1.37473481195757)\n",
      "('Not Survived', ('[24.0, 32.0)_Age', '1_Family', 'S', '[0.0, 51.2)_Fare'), 106, 0.11896745230078563, 0.7910447761194029, 1.2838267678003425)\n",
      "('Not Survived', ('[24.0, 32.0)_Age', '1_Family', 'S'), 108, 0.12121212121212122, 0.7552447552447552, 1.2257250945775535)\n",
      "('Not Survived', ('[24.0, 32.0)_Age', '1_Family', '[0.0, 51.2)_Fare'), 148, 0.16610549943883277, 0.7914438502673797, 1.2844744455159114)\n",
      "('Not Survived', ('[24.0, 32.0)_Age', '1_Family'), 151, 0.16947250280583614, 0.7438423645320197, 1.2072195752240975)\n",
      "('Not Survived', ('[24.0, 32.0)_Age', 'male', 'S', '[0.0, 51.2)_Fare'), 120, 0.13468013468013468, 0.8823529411764706, 1.4320154291224687)\n",
      "('Not Survived', ('[24.0, 32.0)_Age', 'male', 'S'), 129, 0.1447811447811448, 0.86, 1.3957377049180328)\n",
      "('Not Survived', ('[24.0, 32.0)_Age', 'male', '[0.0, 51.2)_Fare'), 172, 0.19304152637485972, 0.8686868686868687, 1.4098360655737705)\n",
      "('Not Survived', ('[24.0, 32.0)_Age', 'male'), 185, 0.20763187429854096, 0.8447488584474886, 1.3709858522344487)\n",
      "('Not Survived', ('[24.0, 32.0)_Age', 'S', '[0.0, 51.2)_Fare'), 135, 0.15151515151515152, 0.75, 1.2172131147540983)\n",
      "('Not Survived', ('[24.0, 32.0)_Age', 'S'), 145, 0.1627384960718294, 0.7178217821782178, 1.1649894497646487)\n",
      "('Not Survived', ('[24.0, 32.0)_Age', '[0.0, 51.2)_Fare'), 188, 0.21099887766554434, 0.749003984063745, 1.215596629873947)\n",
      "('Not Survived', ('[24.0, 32.0)_Age',), 202, 0.22671156004489337, 0.7062937062937062, 1.146279949558638)\n",
      "('Not Survived', ('3rd', '1_Family', 'male', 'S', '[0.0, 51.2)_Fare'), 175, 0.19640852974186307, 0.8974358974358975, 1.4564943253467844)\n",
      "('Not Survived', ('3rd', '1_Family', 'male', 'S'), 177, 0.19865319865319866, 0.8762376237623762, 1.422090569712709)\n",
      "('Not Survived', ('3rd', '1_Family', 'male', '[0.0, 51.2)_Fare'), 230, 0.25813692480359146, 0.8949416342412452, 1.4524462588505453)\n",
      "('Not Survived', ('3rd', '1_Family', 'male'), 232, 0.26038159371492703, 0.8787878787878788, 1.4262295081967213)\n",
      "('Not Survived', ('3rd', '1_Family', 'S', '[0.0, 51.2)_Fare'), 191, 0.2143658810325477, 0.8488888888888889, 1.377704918032787)\n",
      "('Not Survived', ('3rd', '1_Family', 'S'), 193, 0.2166105499438833, 0.8318965517241379, 1.3501271905031091)\n",
      "('Not Survived', ('3rd', '1_Family', '[0.0, 51.2)_Fare'), 253, 0.2839506172839506, 0.7981072555205048, 1.295288824533278)\n",
      "('Not Survived', ('3rd', '1_Family'), 255, 0.28619528619528617, 0.7870370370370371, 1.2773224043715847)\n",
      "('Not Survived', ('3rd', 'male', 'S', '[0.0, 51.2)_Fare'), 225, 0.25252525252525254, 0.8858267716535433, 1.4376532851426358)\n",
      "('Not Survived', ('3rd', 'male', 'S'), 231, 0.25925925925925924, 0.8716981132075472, 1.4147231673368388)\n",
      "('Not Survived', ('3rd', 'male', '[0.0, 51.2)_Fare'), 294, 0.32996632996632996, 0.875, 1.4200819672131149)\n",
      "('Not Survived', ('3rd', 'male'), 300, 0.3367003367003367, 0.8645533141210374, 1.4031275098029952)\n",
      "('Not Survived', ('3rd', 'S', '[0.0, 51.2)_Fare'), 277, 0.3108866442199775, 0.8171091445427728, 1.3261279558972872)\n",
      "('Not Survived', ('3rd', 'S'), 286, 0.32098765432098764, 0.8101983002832861, 1.3149119955417266)\n",
      "('Not Survived', ('3rd', '[0.0, 51.2)_Fare'), 363, 0.4074074074074074, 0.7610062893081762, 1.2350757810083515)\n",
      "('Not Survived', ('3rd',), 372, 0.4175084175084175, 0.7576374745417516, 1.229608360321859)\n",
      "('Not Survived', ('1_Family', 'male', 'S', '[0.0, 51.2)_Fare'), 266, 0.29854096520763185, 0.86084142394822, 1.3971032946044883)\n",
      "('Not Survived', ('1_Family', 'male', 'S'), 273, 0.3063973063973064, 0.8504672897196262, 1.380266584954803)\n",
      "('Not Survived', ('1_Family', 'male', '[0.0, 51.2)_Fare'), 336, 0.3771043771043771, 0.8549618320610687, 1.3875610061318984)\n",
      "('Not Survived', ('1_Family', 'male'), 347, 0.3894500561167228, 0.8442822384428224, 1.3702285509154002)\n",
      "('Not Survived', ('1_Family', 'S', '[0.0, 51.2)_Fare'), 285, 0.31986531986531985, 0.7681940700808625, 1.2467411957050063)\n",
      "('Not Survived', ('1_Family', 'S'), 292, 0.3277216610549944, 0.739240506329114, 1.1997509856816766)\n",
      "('Not Survived', ('1_Family', '[0.0, 51.2)_Fare'), 363, 0.4074074074074074, 0.7363083164300203, 1.1949921856815082)\n",
      "('Not Survived', ('1_Family',), 374, 0.41975308641975306, 0.6964618249534451, 1.130323289678542)\n",
      "('Not Survived', ('male', 'S', '[0.0, 51.2)_Fare'), 334, 0.37485970819304154, 0.8455696202531645, 1.372317908279726)\n",
      "('Not Survived', ('male', 'S'), 364, 0.40852974186307517, 0.8253968253968254, 1.3395784543325526)\n",
      "('Not Survived', ('male', '[0.0, 51.2)_Fare'), 424, 0.47586980920314254, 0.8379446640316206, 1.359942979330007)\n",
      "('Not Survived', ('male',), 468, 0.5252525252525253, 0.8110918544194108, 1.3163621899593716)\n",
      "('Not Survived', ('S', '[0.0, 51.2)_Fare'), 392, 0.4399551066217733, 0.7088607594936709, 1.1504461506536625)\n",
      "('Not Survived', ('S',), 427, 0.4792368125701459, 0.6609907120743034, 1.0727554179566563)\n",
      "('Not Survived', ('[0.0, 51.2)_Fare',), 500, 0.5611672278338945, 0.6802721088435374, 1.1040481766477082)\n"
     ]
    }
   ],
   "source": [
    "for r in rules:\n",
    "    if r[0] == 'Not Survived':\n",
    "        print(r)"
   ]
  },
  {
   "cell_type": "code",
   "execution_count": null,
   "metadata": {},
   "outputs": [],
   "source": []
  }
 ],
 "metadata": {
  "kernelspec": {
   "display_name": "Python 3",
   "language": "python",
   "name": "python3"
  },
  "language_info": {
   "codemirror_mode": {
    "name": "ipython",
    "version": 3
   },
   "file_extension": ".py",
   "mimetype": "text/x-python",
   "name": "python",
   "nbconvert_exporter": "python",
   "pygments_lexer": "ipython3",
   "version": "3.8.5"
  }
 },
 "nbformat": 4,
 "nbformat_minor": 4
}
